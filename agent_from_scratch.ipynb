{
 "cells": [
  {
   "cell_type": "code",
   "execution_count": 1,
   "id": "4d8acb3f",
   "metadata": {},
   "outputs": [],
   "source": [
    "import openai\n",
    "import re\n",
    "import httpx\n",
    "import os\n",
    "from dotenv import load_dotenv, find_dotenv\n",
    "from openai import OpenAI"
   ]
  },
  {
   "cell_type": "code",
   "execution_count": 2,
   "id": "6301d14a",
   "metadata": {},
   "outputs": [
    {
     "data": {
      "text/plain": [
       "True"
      ]
     },
     "execution_count": 2,
     "metadata": {},
     "output_type": "execute_result"
    }
   ],
   "source": [
    "load_dotenv(find_dotenv())  # load .env file"
   ]
  },
  {
   "cell_type": "code",
   "execution_count": 3,
   "id": "aeda674d",
   "metadata": {},
   "outputs": [],
   "source": [
    "client = OpenAI()"
   ]
  },
  {
   "cell_type": "code",
   "execution_count": 4,
   "id": "422fa0a7",
   "metadata": {},
   "outputs": [],
   "source": [
    "chat_completion = client.chat.completions.create(\n",
    "    model=\"gpt-3.5-turbo\",\n",
    "    messages=[\n",
    "        {\"role\": \"user\", \"content\": \"Hello!\"},\n",
    "    ],\n",
    ")"
   ]
  },
  {
   "cell_type": "code",
   "execution_count": 5,
   "id": "8362b07a",
   "metadata": {},
   "outputs": [
    {
     "data": {
      "text/plain": [
       "'Hello! How can I assist you today?'"
      ]
     },
     "execution_count": 5,
     "metadata": {},
     "output_type": "execute_result"
    }
   ],
   "source": [
    "chat_completion.choices[0].message.content"
   ]
  },
  {
   "cell_type": "code",
   "execution_count": 6,
   "id": "68c88d26",
   "metadata": {},
   "outputs": [],
   "source": [
    "class Agent:\n",
    "    def __init__(self, system=\"\"):\n",
    "        self.system = system\n",
    "        self.messages = []\n",
    "        if self.system:\n",
    "            self.messages.append({\"role\": \"system\", \"content\": self.system})\n",
    "    \n",
    "    def __call__(self, message):\n",
    "        self.messages.append({\"role\": \"user\", \"content\": message})\n",
    "        result = self.execute()\n",
    "        self.messages.append({\"role\": \"assistant\", \"content\": result})\n",
    "        return result\n",
    "    \n",
    "    def execute(self):\n",
    "        response = client.chat.completions.create(\n",
    "            model=\"gpt-4-0125-preview\",\n",
    "            temperature=0,\n",
    "            messages=self.messages,\n",
    "        )\n",
    "        return response.choices[0].message.content"
   ]
  },
  {
   "cell_type": "code",
   "execution_count": 7,
   "id": "7b1d678a",
   "metadata": {},
   "outputs": [],
   "source": [
    "prompt = \"\"\"\n",
    "You run in a loop of Thought, Action, PAUSE, Observation.\n",
    "At the end of the loop you output an Answer.\n",
    "Use thought to describe your thoughts about the question you have been asked.\n",
    "Use Action to run one of the actions available to you - then return PAUSE.\n",
    "Observations will be the result of running those actions.\n",
    "\n",
    "Your available actions are:\n",
    "\n",
    "calculate:\n",
    "e.g. calculate 4 * 7 / 3\n",
    "Runs a calculation and returns the number - uses Python so be sure to use floating point syntax if neccessary.\n",
    "\n",
    "average_dog_weight:\n",
    "e.g. average_dog_weight: Collie\n",
    "returns average weight of a dog when given the breed.\n",
    "\n",
    "Example session:\n",
    "\n",
    "Question: How much does a bulldog weigh ?\n",
    "Thought: I should look the dogs weight using average_dog_weight\n",
    "Action: average_dog_weight: Bulldog\n",
    "PAUSE\n",
    "\n",
    "You will be called again with this:\n",
    "\n",
    "Observation: A bulldog weighs 50 pounds.\n",
    "\n",
    "You then output:\n",
    "\n",
    "Answer: A bulldog weighs 50 pounds.\n",
    "\"\"\".strip()"
   ]
  },
  {
   "cell_type": "code",
   "execution_count": 8,
   "id": "f41ceab0",
   "metadata": {},
   "outputs": [],
   "source": [
    "def calculate(what):\n",
    "    return eval(what)\n",
    "\n",
    "def average_dog_weight(name):\n",
    "    if name in \"Scottish Terrier\":\n",
    "        return(\"Scottish Terrier average 20 pounds\")\n",
    "    elif name in \"Border Collie\":\n",
    "        return(\"Border Collie average 37 pounds\")\n",
    "    elif name in \"Toy Poodle\":\n",
    "        return(\"Toy Poodle average 50 pounds\")\n",
    "    else:\n",
    "        return(f\"An average dog weigh 50 pounds\")\n",
    "\n",
    "known_actions = {\n",
    "    \"calculate\": calculate,\n",
    "    \"average_dog_weight\": average_dog_weight,\n",
    "}"
   ]
  },
  {
   "cell_type": "code",
   "execution_count": 9,
   "id": "9426b84a",
   "metadata": {},
   "outputs": [],
   "source": [
    "abot = Agent(prompt)"
   ]
  },
  {
   "cell_type": "code",
   "execution_count": 10,
   "id": "3ad809a5",
   "metadata": {},
   "outputs": [
    {
     "name": "stdout",
     "output_type": "stream",
     "text": [
      "Thought: I should look up the dog's weight using average_dog_weight for a Scottish Terrier.\n",
      "Action: average_dog_weight: Scottish Terrier\n",
      "PAUSE\n"
     ]
    }
   ],
   "source": [
    "result = abot(\"How much does a Scottish Terrier weigh ?\")\n",
    "print(result)"
   ]
  },
  {
   "cell_type": "code",
   "execution_count": 11,
   "id": "8503f8d2",
   "metadata": {},
   "outputs": [
    {
     "data": {
      "text/plain": [
       "'Scottish Terrier average 20 pounds'"
      ]
     },
     "execution_count": 11,
     "metadata": {},
     "output_type": "execute_result"
    }
   ],
   "source": [
    "result = average_dog_weight(\"Scottish Terrier\")\n",
    "result"
   ]
  },
  {
   "cell_type": "code",
   "execution_count": 12,
   "id": "3eddde5d",
   "metadata": {},
   "outputs": [],
   "source": [
    "next_prompt = f\"Observation: {result}\""
   ]
  },
  {
   "cell_type": "code",
   "execution_count": 13,
   "id": "d3f5d03c",
   "metadata": {},
   "outputs": [
    {
     "data": {
      "text/plain": [
       "'Answer: A Scottish Terrier weighs an average of 20 pounds.'"
      ]
     },
     "execution_count": 13,
     "metadata": {},
     "output_type": "execute_result"
    }
   ],
   "source": [
    "abot(next_prompt)"
   ]
  },
  {
   "cell_type": "code",
   "execution_count": 14,
   "id": "19daa087",
   "metadata": {},
   "outputs": [
    {
     "data": {
      "text/plain": [
       "[{'role': 'system',\n",
       "  'content': 'You run in a loop of Thought, Action, PAUSE, Observation.\\nAt the end of the loop you output an Answer.\\nUse thought to describe your thoughts about the question you have been asked.\\nUse Action to run one of the actions available to you - then return PAUSE.\\nObservations will be the result of running those actions.\\n\\nYour available actions are:\\n\\ncalculate:\\ne.g. calculate 4 * 7 / 3\\nRuns a calculation and returns the number - uses Python so be sure to use floating point syntax if neccessary.\\n\\naverage_dog_weight:\\ne.g. average_dog_weight: Collie\\nreturns average weight of a dog when given the breed.\\n\\nExample session:\\n\\nQuestion: How much does a bulldog weigh ?\\nThought: I should look the dogs weight using average_dog_weight\\nAction: average_dog_weight: Bulldog\\nPAUSE\\n\\nYou will be called again with this:\\n\\nObservation: A bulldog weighs 50 pounds.\\n\\nYou then output:\\n\\nAnswer: A bulldog weighs 50 pounds.'},\n",
       " {'role': 'user', 'content': 'How much does a Scottish Terrier weigh ?'},\n",
       " {'role': 'assistant',\n",
       "  'content': \"Thought: I should look up the dog's weight using average_dog_weight for a Scottish Terrier.\\nAction: average_dog_weight: Scottish Terrier\\nPAUSE\"},\n",
       " {'role': 'user',\n",
       "  'content': 'Observation: Scottish Terrier average 20 pounds'},\n",
       " {'role': 'assistant',\n",
       "  'content': 'Answer: A Scottish Terrier weighs an average of 20 pounds.'}]"
      ]
     },
     "execution_count": 14,
     "metadata": {},
     "output_type": "execute_result"
    }
   ],
   "source": [
    "abot.messages"
   ]
  },
  {
   "cell_type": "code",
   "execution_count": 15,
   "id": "9be0765c",
   "metadata": {},
   "outputs": [],
   "source": [
    "abot = Agent(prompt)"
   ]
  },
  {
   "cell_type": "code",
   "execution_count": 16,
   "id": "2206087f",
   "metadata": {},
   "outputs": [
    {
     "name": "stdout",
     "output_type": "stream",
     "text": [
      "Thought: To find the combined weight of a border collie and a toy poodle, I need to find the average weight of each breed and then add them together.\n",
      "Action: average_dog_weight: Border Collie\n",
      "PAUSE\n"
     ]
    }
   ],
   "source": [
    "question = \"\"\"\n",
    "I have 2 dogs, a border collie and a toy poodle. What is their combined weight ?\n",
    "\"\"\"\n",
    "print(abot(question))"
   ]
  },
  {
   "cell_type": "code",
   "execution_count": 17,
   "id": "18e83aaf",
   "metadata": {},
   "outputs": [
    {
     "data": {
      "text/plain": [
       "'Thought: Now that I know the average weight of a Border Collie, I need to find the average weight of a Toy Poodle to calculate the combined weight.\\nAction: average_dog_weight: Toy Poodle\\nPAUSE'"
      ]
     },
     "execution_count": 17,
     "metadata": {},
     "output_type": "execute_result"
    }
   ],
   "source": [
    "next_prompt = f\"Observation: {average_dog_weight('Border Collie')}\"\n",
    "abot(next_prompt)"
   ]
  },
  {
   "cell_type": "code",
   "execution_count": 18,
   "id": "5c4b9926",
   "metadata": {},
   "outputs": [
    {
     "data": {
      "text/plain": [
       "\"Thought: The observation about the Toy Poodle's average weight seems incorrect based on my knowledge; Toy Poodles are much smaller. However, I will proceed with the given information to calculate the combined weight.\\nAction: calculate 37 + 50\\nPAUSE\""
      ]
     },
     "execution_count": 18,
     "metadata": {},
     "output_type": "execute_result"
    }
   ],
   "source": [
    "next_prompt = f\"Observation: {average_dog_weight('Toy Poodle')}\"\n",
    "abot(next_prompt)"
   ]
  },
  {
   "cell_type": "code",
   "execution_count": 19,
   "id": "f9dd3aad",
   "metadata": {},
   "outputs": [
    {
     "data": {
      "text/plain": [
       "'Answer: The combined weight of a Border Collie and a Toy Poodle, based on the provided average weights, is 87 pounds.'"
      ]
     },
     "execution_count": 19,
     "metadata": {},
     "output_type": "execute_result"
    }
   ],
   "source": [
    "next_prompt = f\"Observation: {calculate('37 + 50')}\"\n",
    "abot(next_prompt)"
   ]
  },
  {
   "cell_type": "markdown",
   "id": "b8be2efd",
   "metadata": {},
   "source": [
    "## Automated"
   ]
  },
  {
   "cell_type": "code",
   "execution_count": 20,
   "id": "384e879b",
   "metadata": {},
   "outputs": [],
   "source": [
    "action_re = re.compile(\"^Action: (\\w+): (.*)$\")"
   ]
  },
  {
   "cell_type": "code",
   "execution_count": 21,
   "id": "a02e6c90",
   "metadata": {},
   "outputs": [],
   "source": [
    "def query(question, max_turns=5):\n",
    "    i = 0\n",
    "    bot = Agent(prompt)\n",
    "    next_prompt = question\n",
    "    while i < max_turns:\n",
    "        i += 1\n",
    "        result = bot(next_prompt)\n",
    "        print(result)\n",
    "        actions = [\n",
    "            action_re.match(line)\n",
    "            for line in result.split(\"\\n\")\n",
    "            if action_re.match(line)\n",
    "        ]\n",
    "\n",
    "        if actions:\n",
    "            action, action_input = actions[0].groups()\n",
    "            if action not in known_actions:\n",
    "                raise Exception(f\"Unknown action {action}\")\n",
    "            print(f\"--- running {action} {action_input}\")\n",
    "            observation = known_actions[action](action_input)\n",
    "            print(f\"Observation {observation}\")\n",
    "            next_prompt = f\"Observation: {observation}\"\n",
    "        else:\n",
    "            return"
   ]
  },
  {
   "cell_type": "code",
   "execution_count": 25,
   "id": "810bdbe9",
   "metadata": {},
   "outputs": [
    {
     "name": "stdout",
     "output_type": "stream",
     "text": [
      "Thought: To find the combined weight of the two dogs, I need to find the average weight of a Border Collie and a Scottish Terrier separately and then add those weights together.\n",
      "\n",
      "Action: average_dog_weight: Border Collie\n",
      "PAUSE\n",
      "--- running average_dog_weight Border Collie\n",
      "Observation Border Collie average 37 pounds\n",
      "Thought: Now that I know the average weight of a Border Collie is 37 pounds, I need to find the average weight of a Scottish Terrier to calculate the combined weight.\n",
      "\n",
      "Action: average_dog_weight: Scottish Terrier\n",
      "PAUSE\n",
      "--- running average_dog_weight Scottish Terrier\n",
      "Observation Scottish Terrier average 20 pounds\n",
      "Thought: With the average weight of a Border Collie being 37 pounds and a Scottish Terrier being 20 pounds, I can now calculate their combined weight.\n",
      "\n",
      "Action: calculate 37 + 20\n",
      "PAUSE\n"
     ]
    }
   ],
   "source": [
    "question = \"I have 2 dogs, a border collie and a acottish terrier. What is their combined weight ?\"\n",
    "query(question)"
   ]
  }
 ],
 "metadata": {
  "kernelspec": {
   "display_name": "Python 3",
   "language": "python",
   "name": "python3"
  },
  "language_info": {
   "codemirror_mode": {
    "name": "ipython",
    "version": 3
   },
   "file_extension": ".py",
   "mimetype": "text/x-python",
   "name": "python",
   "nbconvert_exporter": "python",
   "pygments_lexer": "ipython3",
   "version": "3.11.4"
  }
 },
 "nbformat": 4,
 "nbformat_minor": 5
}
